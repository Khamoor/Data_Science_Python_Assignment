{
 "cells": [
  {
   "cell_type": "markdown",
   "id": "3d1d45f0",
   "metadata": {},
   "source": [
    "## 1. Write a Python program to print the following string in a specific format (see the output)."
   ]
  },
  {
   "cell_type": "raw",
   "id": "a8555216",
   "metadata": {},
   "source": [
    "Twinkle, twinkle, little star,\n",
    "         How I wonder what you are!\n",
    "                  up above the world so high,\n",
    "                  Like a diamond in the sky.\n",
    "Twinkle, twinkle, little star,\n",
    "         How I wonder what you are"
   ]
  },
  {
   "cell_type": "code",
   "execution_count": 6,
   "id": "da18dcf4",
   "metadata": {},
   "outputs": [
    {
     "name": "stdout",
     "output_type": "stream",
     "text": [
      "Twinkle, twinkle, little star,\n",
      "\t How I wonder what you are!\n",
      "\t\t up above the world so high,\n"
     ]
    }
   ],
   "source": [
    "s1 = \"Twinkle, twinkle, little star,\"\n",
    "s2 = \"\\t How I wonder what you are!\"\n",
    "print(s1)\n",
    "print(s2)\n",
    "print(\"\\t\\t up above the world so high,\")\n",
    "print(\"\\t\\t Like a diamond in the sky\")"
   ]
  }
 ],
 "metadata": {
  "kernelspec": {
   "display_name": "Python 3 (ipykernel)",
   "language": "python",
   "name": "python3"
  },
  "language_info": {
   "codemirror_mode": {
    "name": "ipython",
    "version": 3
   },
   "file_extension": ".py",
   "mimetype": "text/x-python",
   "name": "python",
   "nbconvert_exporter": "python",
   "pygments_lexer": "ipython3",
   "version": "3.9.7"
  }
 },
 "nbformat": 4,
 "nbformat_minor": 5
}
