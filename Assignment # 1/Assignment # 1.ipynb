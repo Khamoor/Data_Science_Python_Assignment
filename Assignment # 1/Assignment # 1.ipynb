{
 "cells": [
  {
   "cell_type": "markdown",
   "id": "bcbc844c",
   "metadata": {},
   "source": [
    "## 1. Write a Python program to print the following string in a specific format (see the output)."
   ]
  },
  {
   "cell_type": "raw",
   "id": "8c2596bc",
   "metadata": {},
   "source": [
    "Twinkle, twinkle, little star,\n",
    "         How I wonder what you are!\n",
    "                  up above the world so high,\n",
    "                  Like a diamond in the sky.\n",
    "Twinkle, twinkle, little star,\n",
    "         How I wonder what you are"
   ]
  },
  {
   "cell_type": "code",
   "execution_count": 8,
   "id": "b0645d1e",
   "metadata": {
    "scrolled": true
   },
   "outputs": [
    {
     "name": "stdout",
     "output_type": "stream",
     "text": [
      "Twinkle, twinkle, little star,\n",
      "\t How I wonder what you are!\n",
      "\t\t up above the world so high,\n",
      "\t\t Like a diamond in the sky.\n",
      "Twinkle, twinkle, little star,\n",
      "\t How I wonder what you are!\n"
     ]
    }
   ],
   "source": [
    "s1 = \"Twinkle, twinkle, little star,\"\n",
    "s2 = \"\\t How I wonder what you are!\"\n",
    "print(s1)\n",
    "print(s2)\n",
    "print(\"\\t\\t up above the world so high,\")\n",
    "print(\"\\t\\t Like a diamond in the sky.\")\n",
    "print(s1)\n",
    "print(s2)"
   ]
  },
  {
   "cell_type": "markdown",
   "id": "65c94506",
   "metadata": {},
   "source": [
    "## 2. Write a Python to get the Python version you are using."
   ]
  },
  {
   "cell_type": "code",
   "execution_count": 3,
   "id": "6c5ddeb1",
   "metadata": {},
   "outputs": [
    {
     "name": "stdout",
     "output_type": "stream",
     "text": [
      "3.9.7\n"
     ]
    }
   ],
   "source": [
    "from platform import python_version\n",
    "\n",
    "print(python_version())"
   ]
  },
  {
   "cell_type": "markdown",
   "id": "89f0dc56",
   "metadata": {},
   "source": [
    "## 3. Write a Python program to display the current date and time."
   ]
  },
  {
   "cell_type": "code",
   "execution_count": 14,
   "id": "d51795fc",
   "metadata": {},
   "outputs": [
    {
     "name": "stdout",
     "output_type": "stream",
     "text": [
      "Today's Date: 30/12/2021 \n",
      "Today's Time 19:04:13\n"
     ]
    }
   ],
   "source": [
    "from datetime import datetime\n",
    "\n",
    "now = datetime.now()\n",
    "\n",
    "print(\"Today's Date:\", now.strftime(\"%d/%m/%Y\"), \"\\nToday's Time\", now.strftime(\"%H:%M:%S\"))\n"
   ]
  },
  {
   "cell_type": "markdown",
   "id": "3ec62950",
   "metadata": {},
   "source": [
    "## 4. Write a Python program which accepts the radius of a circle from the user and compute the area."
   ]
  },
  {
   "cell_type": "code",
   "execution_count": 19,
   "id": "480ee8a8",
   "metadata": {},
   "outputs": [
    {
     "name": "stdout",
     "output_type": "stream",
     "text": [
      "Enter Radius of Circle: 5\n",
      "Area of Circle is 78.5\n"
     ]
    }
   ],
   "source": [
    "r = int(input(\"Enter Radius of Circle: \"))\n",
    "\n",
    "print(\"Area of Circle is\", 3.14*(r**2))"
   ]
  },
  {
   "cell_type": "markdown",
   "id": "b04c94b2",
   "metadata": {},
   "source": [
    "## 5. Write a Python program which accepts the user's first and last name and print them in reverse order with a space between them."
   ]
  },
  {
   "cell_type": "code",
   "execution_count": 25,
   "id": "7316a77d",
   "metadata": {},
   "outputs": [
    {
     "name": "stdout",
     "output_type": "stream",
     "text": [
      "Enter your First Name: Muhammad\n",
      "Enter your Last Name: Habib\n",
      "Your Full Name: Muhammad Habib\n",
      "Your Full Name in Revese Order: dammahuM bibaH\n"
     ]
    }
   ],
   "source": [
    "first_name = input(\"Enter your First Name: \")\n",
    "last_name = input(\"Enter your Last Name: \")\n",
    "\n",
    "print(\"Your Full Name:\", first_name + ' ' + last_name)\n",
    "\n",
    "print(\"Your Full Name in Revese Order:\", first_name[::-1] + ' ' + last_name[::-1])"
   ]
  },
  {
   "cell_type": "markdown",
   "id": "40d236c6",
   "metadata": {},
   "source": [
    "## Write a Python program which "
   ]
  }
 ],
 "metadata": {
  "kernelspec": {
   "display_name": "Python 3 (ipykernel)",
   "language": "python",
   "name": "python3"
  },
  "language_info": {
   "codemirror_mode": {
    "name": "ipython",
    "version": 3
   },
   "file_extension": ".py",
   "mimetype": "text/x-python",
   "name": "python",
   "nbconvert_exporter": "python",
   "pygments_lexer": "ipython3",
   "version": "3.9.7"
  }
 },
 "nbformat": 4,
 "nbformat_minor": 5
}
